{
 "cells": [
  {
   "cell_type": "code",
   "execution_count": null,
   "metadata": {},
   "outputs": [],
   "source": [
    "import numpy as np\n",
    "import cv2 as cv\n",
    "from matplotlib import pyplot as plt\n",
    "%matplotlib inline\n",
    "img = cv.imread('lena_color.png')\n",
    "\n",
    "#img_gray = cv.cvtColor(img,cv.COLOR_RGB2GRAY)\n",
    "#print(img_gray.shape)\n",
    "#print(img_gray.min())\n",
    "\n",
    "dst = cv.fastNlMeansDenoisingColored(img,None,10,10,7,21)\n",
    "plt.subplot(121),plt.imshow(img)\n",
    "plt.subplot(122),plt.imshow(dst)\n",
    "plt.show()"
   ]
  },
  {
   "cell_type": "code",
   "execution_count": null,
   "metadata": {},
   "outputs": [],
   "source": [
    "dst.shape"
   ]
  },
  {
   "cell_type": "code",
   "execution_count": null,
   "metadata": {},
   "outputs": [],
   "source": [
    "dst.max()"
   ]
  },
  {
   "cell_type": "code",
   "execution_count": null,
   "metadata": {},
   "outputs": [],
   "source": [
    "dst_new = cv.cvtColor(dst, cv.COLOR_RGB2GRAY)"
   ]
  },
  {
   "cell_type": "code",
   "execution_count": null,
   "metadata": {},
   "outputs": [],
   "source": [
    "dst_new.shape"
   ]
  },
  {
   "cell_type": "code",
   "execution_count": null,
   "metadata": {},
   "outputs": [],
   "source": [
    "dst_new.max()"
   ]
  },
  {
   "cell_type": "code",
   "execution_count": null,
   "metadata": {},
   "outputs": [],
   "source": [
    "plt.imshow(dst_new)"
   ]
  },
  {
   "cell_type": "code",
   "execution_count": null,
   "metadata": {},
   "outputs": [],
   "source": [
    "img_gray = cv.cvtColor(img,cv.COLOR_RGB2GRAY)\n"
   ]
  },
  {
   "cell_type": "code",
   "execution_count": null,
   "metadata": {},
   "outputs": [],
   "source": [
    "img_gray.shape"
   ]
  },
  {
   "cell_type": "code",
   "execution_count": null,
   "metadata": {},
   "outputs": [],
   "source": [
    "img_gray.max()"
   ]
  },
  {
   "cell_type": "code",
   "execution_count": null,
   "metadata": {},
   "outputs": [],
   "source": [
    "fxy = np.zeros((256,256))\n",
    "print(fxy.shape)"
   ]
  },
  {
   "cell_type": "code",
   "execution_count": null,
   "metadata": {},
   "outputs": [],
   "source": [
    "for i in range(dst_new.shape[0]):\n",
    "    for j in range(dst_new.shape[1]):\n",
    "        c = img_gray[i][j]\n",
    "        d = dst_new[i][j]\n",
    "        fxy[c][d] = fxy[c][d] +1"
   ]
  },
  {
   "cell_type": "code",
   "execution_count": null,
   "metadata": {},
   "outputs": [],
   "source": [
    "pxy = fxy/(dst_new.shape[0]*dst_new.shape[1])"
   ]
  },
  {
   "cell_type": "code",
   "execution_count": null,
   "metadata": {},
   "outputs": [],
   "source": [
    "pxy.shape"
   ]
  },
  {
   "cell_type": "code",
   "execution_count": null,
   "metadata": {},
   "outputs": [],
   "source": [
    "import numpy as np\n",
    "import matplotlib.pyplot as plt\n",
    "from mpl_toolkits.mplot3d import Axes3D\n",
    "\n",
    "def surface_plot (matrix, **kwargs):\n",
    "    # acquire the cartesian coordinate matrices from the matrix\n",
    "    # x is cols, y is rows\n",
    "    (x, y) = np.meshgrid(np.arange(matrix.shape[0]), np.arange(matrix.shape[1]))\n",
    "    fig = plt.figure(figsize=(15,10))\n",
    "    ax = fig.add_subplot(111, projection='3d')\n",
    "    surf = ax.plot_surface(x, y, matrix, **kwargs)\n",
    "    return (fig, ax, surf)\n"
   ]
  },
  {
   "cell_type": "code",
   "execution_count": null,
   "metadata": {},
   "outputs": [],
   "source": [
    "\n",
    "# m.shape must be (10,10)\n",
    "#m = np.fromfunction(lambda x, y: np.sin(np.sqrt(x**2 + y**2)), (10, 10))\n",
    "\n",
    "(fig, ax, surf) = surface_plot(pxy, cmap=plt.cm.Spectral)\n",
    "\n",
    "fig.colorbar(surf)\n",
    "\n",
    "ax.set_xlabel('X (cols)')\n",
    "ax.set_ylabel('Y (rows)')\n",
    "ax.set_zlabel('Z (values)')\n",
    "fig.tight_layout()\n",
    "#plt.figure(figsize=(15,20))\n",
    "plt.show()"
   ]
  },
  {
   "cell_type": "code",
   "execution_count": null,
   "metadata": {},
   "outputs": [],
   "source": []
  },
  {
   "cell_type": "code",
   "execution_count": null,
   "metadata": {},
   "outputs": [],
   "source": [
    "import plotly.graph_objects as go\n",
    "\n",
    "\n",
    "fig = go.Figure(data = [go.Surface(z=pxy)])\n",
    "\n",
    "fig.update_traces(contours_z=dict(show=True, usecolormap=True, highlightcolor='limegreen', project_z=True))\n",
    "fig.update_layout(title=\"Local Means 2D histogram\", autosize=False,\n",
    "                  scene_camera_eye = dict(x=1.87, y = 0.88, z= -0.64),\n",
    "                  width=700, height=500,\n",
    "                  margin=dict(l=65, r=50, b=65, t=90))\n",
    "fig.show()"
   ]
  },
  {
   "cell_type": "code",
   "execution_count": null,
   "metadata": {},
   "outputs": [],
   "source": [
    "import GSA as gsa\n",
    "import benchmarks\n",
    "import csv\n",
    "import numpy\n",
    "import time\n",
    "\n",
    "\n",
    "def selector(algo,func_details,popSize,Iter,pxy):\n",
    "    function_name=func_details[0]\n",
    "    lb=func_details[1]\n",
    "    ub=func_details[2]\n",
    "    dim=func_details[3]\n",
    "    \n",
    "\n",
    "    if(algo==0):\n",
    "        x=gsa.GSA(lb,ub,dim,popSize,Iter,pxy)    \n",
    "    return x\n"
   ]
  },
  {
   "cell_type": "code",
   "execution_count": null,
   "metadata": {},
   "outputs": [],
   "source": [
    "# Select optimizers\n",
    "GSA= True \n",
    "# Select benchmark function\n",
    "#F1=True\n",
    "Entropy = True\n",
    "\n",
    "\n",
    "Algorithm=[GSA]\n",
    "objectivefunc=[Entropy] \n",
    "        \n",
    "# Select number of repetitions for each experiment. \n",
    "# To obtain meaningful statistical results, usually 30 independent runs \n",
    "# are executed for each algorithm.\n",
    "Runs=1\n",
    "\n",
    "# Select general parameters for all optimizers (population size, number of iterations)\n",
    "#PopSize = 50\n",
    "#iterations= 100 #1000\n",
    "\n",
    "#Export results ?\n",
    "Export=False #True\n",
    "\n",
    "\n",
    "#ExportToFile=\"YourResultsAreHere.csv\"\n",
    "#Automaticly generated name by date and time\n",
    "ExportToFile=\"experiment\"+time.strftime(\"%Y-%m-%d-%H-%M-%S\")+\".csv\" \n",
    "\n",
    "# Check if it works at least once\n",
    "atLeastOneIteration=False\n"
   ]
  },
  {
   "cell_type": "code",
   "execution_count": null,
   "metadata": {},
   "outputs": [],
   "source": [
    "partitionLevels=1; \n",
    "if partitionLevels==1:\n",
    "    number_of_levels=5;\n",
    "\n",
    "    \n",
    "level=number_of_levels\n"
   ]
  },
  {
   "cell_type": "code",
   "execution_count": null,
   "metadata": {},
   "outputs": [],
   "source": [
    "d = level-1\n",
    "NumberOfThresholdValues=2*d\n",
    "thdim=NumberOfThresholdValues\n",
    "Lmax=254\n",
    "XVmax = Lmax*np.ones((1,NumberOfThresholdValues))\n",
    "XVmin = np.zeros((1,NumberOfThresholdValues))"
   ]
  },
  {
   "cell_type": "code",
   "execution_count": null,
   "metadata": {},
   "outputs": [],
   "source": [
    "PopSize = int((thdim/2)*10)\n",
    "iterations=1000"
   ]
  },
  {
   "cell_type": "code",
   "execution_count": null,
   "metadata": {},
   "outputs": [],
   "source": []
  },
  {
   "cell_type": "code",
   "execution_count": null,
   "metadata": {},
   "outputs": [],
   "source": []
  },
  {
   "cell_type": "code",
   "execution_count": null,
   "metadata": {},
   "outputs": [],
   "source": [
    "\n",
    "# CSV Header for for the convergence \n",
    "CnvgHeader=[]\n",
    "\n",
    "for l in range(0,iterations):\n",
    "    CnvgHeader.append(\"Iter\"+str(l+1))\n",
    "\n",
    "\n",
    "for i in range (0, len(Algorithm)):\n",
    "    for j in range (0, len(objectivefunc)):\n",
    "        if((Algorithm[i]==True) and (objectivefunc[j]==True)): # start experiment if an Algorithm and an objective function is selected\n",
    "            for k in range (0,Runs):\n",
    "                \n",
    "                func_details=benchmarks.getFunctionDetails(j)\n",
    "                func_details[0]=\"entropy\"\n",
    "                func_details[1] = XVmin\n",
    "                func_details[2] = XVmax\n",
    "                func_details[3] = thdim\n",
    "                \n",
    "                x=selector(i,func_details,PopSize,iterations,pxy)\n",
    "                \n",
    "                if(Export==True):\n",
    "                    with open(ExportToFile, 'a') as out:\n",
    "                        writer = csv.writer(out,delimiter=',')\n",
    "                        if (atLeastOneIteration==False): # just one time to write the header of the CSV file\n",
    "                            header= numpy.concatenate([[\"Optimizer\",\"objfname\",\"startTime\",\"EndTime\",\"ExecutionTime\"],CnvgHeader])\n",
    "                            writer.writerow(header)\n",
    "                        a=numpy.concatenate([[x.Algorithm,x.objectivefunc,x.startTime,x.endTime,x.executionTime],x.convergence])\n",
    "                        writer.writerow(a)\n",
    "                    out.close()\n",
    "                atLeastOneIteration=True # at least one experiment\n",
    "                \n",
    "if (atLeastOneIteration==False): # Faild to run at least one experiment\n",
    "    print(\"No Optomizer or Cost function is selected. Check lists of available optimizers and cost functions\") \n",
    "        \n",
    "        \n"
   ]
  },
  {
   "cell_type": "code",
   "execution_count": null,
   "metadata": {},
   "outputs": [],
   "source": []
  },
  {
   "cell_type": "code",
   "execution_count": null,
   "metadata": {},
   "outputs": [],
   "source": []
  }
 ],
 "metadata": {
  "kernelspec": {
   "display_name": "Python 3",
   "language": "python",
   "name": "python3"
  },
  "language_info": {
   "codemirror_mode": {
    "name": "ipython",
    "version": 3
   },
   "file_extension": ".py",
   "mimetype": "text/x-python",
   "name": "python",
   "nbconvert_exporter": "python",
   "pygments_lexer": "ipython3",
   "version": "3.7.2"
  }
 },
 "nbformat": 4,
 "nbformat_minor": 1
}
